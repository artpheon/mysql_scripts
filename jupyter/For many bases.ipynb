{
 "cells": [
  {
   "cell_type": "code",
   "execution_count": 66,
   "id": "713cc6d3",
   "metadata": {},
   "outputs": [],
   "source": [
    "import pandas as pd\n",
    "import re"
   ]
  },
  {
   "cell_type": "code",
   "execution_count": 67,
   "id": "4a5b30ce",
   "metadata": {},
   "outputs": [],
   "source": [
    "file = pd.read_excel('/Users/hrobbin/projects/python/Bosch/JivoChat Report 21-09-02 61305d4165b6d.xlsx', sheet_name=0)"
   ]
  },
  {
   "cell_type": "code",
   "execution_count": 68,
   "id": "4306daf7",
   "metadata": {},
   "outputs": [],
   "source": [
    "def format_date(raw):\n",
    "    date = re.search(r\"\\D(\\d{1,}).(\\d{1,}).(\\d{1,})\", raw)\n",
    "    return date.group(3) + '-' + date.group(2) + '-' + date.group(1)"
   ]
  },
  {
   "cell_type": "code",
   "execution_count": 72,
   "id": "687fc4fd",
   "metadata": {},
   "outputs": [],
   "source": [
    "file.columns = ['x' + str(x) for x in range(13)]\n",
    "start = file.loc[file['x0'] == 'Сводный отчет по сайтам'].index[0]\n",
    "ends = file.loc[file['x0'] == 'ИТОГО'].index[0]\n",
    "file2 = pd.DataFrame(file.iloc[start + 3:ends, :7])\n",
    "file2.columns = ['site_name', 'dial_acc', 'call_acc', 'dial_not_acc', 'call_not_acc', 'dial_noreply', 'offline_msg']\n",
    "file2['date'] = format_date(file.iloc[0, 0])\n",
    "file2.insert(0, 'date', file2.pop('date'))\n",
    "file2.reset_index(inplace=True)"
   ]
  },
  {
   "cell_type": "code",
   "execution_count": 77,
   "id": "b2f52cf8",
   "metadata": {},
   "outputs": [
    {
     "data": {
      "text/plain": [
       "13"
      ]
     },
     "execution_count": 77,
     "metadata": {},
     "output_type": "execute_result"
    }
   ],
   "source": [
    "len(file.columns.to_list())"
   ]
  },
  {
   "cell_type": "code",
   "execution_count": null,
   "id": "c93d86c5",
   "metadata": {},
   "outputs": [],
   "source": []
  }
 ],
 "metadata": {
  "kernelspec": {
   "display_name": "Python 3 (ipykernel)",
   "language": "python",
   "name": "python3"
  },
  "language_info": {
   "codemirror_mode": {
    "name": "ipython",
    "version": 3
   },
   "file_extension": ".py",
   "mimetype": "text/x-python",
   "name": "python",
   "nbconvert_exporter": "python",
   "pygments_lexer": "ipython3",
   "version": "3.7.8"
  }
 },
 "nbformat": 4,
 "nbformat_minor": 5
}
